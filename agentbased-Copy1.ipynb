{
 "cells": [
  {
   "cell_type": "code",
   "execution_count": 1,
   "metadata": {},
   "outputs": [],
   "source": [
    "import matplotlib\n",
    "matplotlib.use('TkAgg')\n",
    "import matplotlib.pyplot as plt\n",
    "import networkx as nx\n",
    "import random as RD\n",
    "import pylab as PL\n",
    "import numpy as np \n",
    "k = 4\n",
    "%matplotlib inline"
   ]
  },
  {
   "cell_type": "code",
   "execution_count": 23,
   "metadata": {},
   "outputs": [],
   "source": [
    "#init function for the start of simulation\n",
    "def init():\n",
    "    global g,positions,I,S,T,K,Iall,Sall,Tall,Kall,t,posters\n",
    "    g=nx.read_edgelist('facebook_combined.txt',nodetype=int)\n",
    "    \n",
    "    for nd in g.nodes_iter():\n",
    "        \n",
    "        \n",
    "        if RD.random() <= 0.05:\n",
    "            g.node[nd]['state'] = 1\n",
    "        else :\n",
    "            g.node[nd]['state'] = 0\n",
    "    positions=nx.spring_layout(g)\n",
    "    I=0\n",
    "    S=0\n",
    "    T=0\n",
    "    K=0\n",
    "    t=[]\n",
    "    Iall=[]\n",
    "    Sall=[]\n",
    "    Tall=[]\n",
    "    Kall=[]\n",
    "    for nd in g.nodes_iter():\n",
    "        if g.node[nd]['state']==0:\n",
    "            I=I+1\n",
    "        if g.node[nd]['state']==1:\n",
    "            S=S+1\n",
    "    Iall.append(I)\n",
    "    Sall.append(S)\n",
    "    Tall.append(T)\n",
    "    Kall.append(K)\n",
    "    t.append(0)\n",
    "    \n",
    "    "
   ]
  },
  {
   "cell_type": "code",
   "execution_count": 24,
   "metadata": {},
   "outputs": [],
   "source": [
    "#init function to assign daily login time and posting order\n",
    "def dailyinit(day):\n",
    "    global g,positions,I,S,T,K,Iall,Sall,Tall,Kall,t,posters\n",
    "    for nd in g.nodes_iter():\n",
    "        mu, sigma = 23, 4\n",
    "        c=RD.randint(0,457)\n",
    "        s = np.random.normal(mu, sigma)\n",
    "        g.node[nd]['start']=480*day+c\n",
    "        g.node[nd]['end']=480*day+int(c+s)\n",
    "        if RD.random() <= 14.00/365:\n",
    "            g.node[nd]['poster'] = 1\n",
    "            g.node[nd]['post_time'] = 480*day+RD.randint(c,int(c+s))\n",
    "        else :\n",
    "            g.node[nd]['poster'] = 0\n",
    "            g.node[nd]['post_time'] = -1\n",
    "    a=sorted(g.nodes(data=True), key=lambda x: x[1]['post_time'])\n",
    "    posters=[]\n",
    "    for row in a:\n",
    "        if (row[1]['post_time']>=0):\n",
    "            posters.append(row[0])\n",
    "            print(row[0],row[1]['post_time'])"
   ]
  },
  {
   "cell_type": "code",
   "execution_count": 25,
   "metadata": {},
   "outputs": [],
   "source": [
    "#For plotting with Pycx\n",
    "def draw():\n",
    "    PL.cla()\n",
    "    nx.draw(g, with_labels = False, pos = positions,\n",
    "            node_color = [g.node[n]['state'] for n in g.nodes_iter()],\n",
    "            vmin = 0, vmax = k - 1, cmap = PL.cm.jet)"
   ]
  },
  {
   "cell_type": "code",
   "execution_count": 26,
   "metadata": {},
   "outputs": [],
   "source": [
    "def update(poster):\n",
    "    global g, t,I,S,T,K,Iall,Sall,Tall,Kall\n",
    "    prob=np.array([[-1,0.8,-1,-1],[-1,0.01,0.02,-1],[-1,-1,-1,-1],[-1,0.01,-1,-1]]) #probability table\n",
    "    prob=np.transpose(prob)\n",
    "    nd= poster #using poster as current node\n",
    "    \n",
    "    for a in range(1):\n",
    "        \n",
    "            \n",
    "        for nd2 in g.neighbors(nd): #all neighbors of poster\n",
    "            #print('--nd2='+str(nd2),g.node[nd2]['end'])\n",
    "            if g.node[nd2]['end']>=g.node[nd]['post_time']: #neighbors which logout after posting time i.e those who can read the post\n",
    "                #print('nd2='+str(nd2),g.node[nd2]['end'])\n",
    "                \n",
    "                i=g.node[nd]['state']\n",
    "                j=g.node[nd2]['state']\n",
    "                if prob[i,j]<0 : #Means this interaction is not important\n",
    "                    print(\"no\")\n",
    "                    break\n",
    "                else:\n",
    "                    print(\"yes\")\n",
    "                    if j==0:  # if reader is ignorant\n",
    "                        \n",
    "                        if RD.random()<=0.8:\n",
    "                            g.node[nd]['state']=1                            \n",
    "                            S=S+1\n",
    "                            I=I-1\n",
    "                        else:\n",
    "                            g.node[nd]['state']=2\n",
    "                            I=I-1\n",
    "                            T=T+1\n",
    "                    if j==1:\n",
    "                        \n",
    "                        if RD.random()<=1/22*480:  #forgetting factor\n",
    "                            g.node[nd]['state']=3\n",
    "                            S=S-1\n",
    "                            K=K+1\n",
    "                            break\n",
    "                        if RD.random()<=prob[i,j]:  #If reader is a spreader, poster can be spreader or Stifler\n",
    "                            g.node[nd]['state']=2\n",
    "                            S=S-1\n",
    "                            T=T+1\n",
    "                    if j==3:  #If reader is knowledgable\n",
    "                        \n",
    "                        if RD.random()<=prob[i,j]:\n",
    "                            K=K-1\n",
    "                            g.node[nd]['state']=2\n",
    "                            T=T+1\n",
    "                    \n",
    "                    t.append(g.node[nd]['post_time'])\n",
    "                    Iall.append(I)\n",
    "                    Sall.append(S)\n",
    "                    Tall.append(T)\n",
    "                    Kall.append(K)\n",
    "\n",
    "                    \n",
    "            else:\n",
    "                break"
   ]
  },
  {
   "cell_type": "code",
   "execution_count": null,
   "metadata": {},
   "outputs": [],
   "source": []
  },
  {
   "cell_type": "code",
   "execution_count": null,
   "metadata": {},
   "outputs": [],
   "source": [
    "#Simulation\n",
    "init()\n",
    "for day in range(0,22):\n",
    "    dailyinit(day)\n",
    "    for poster in posters:\n",
    "        print(poster,g.node[poster]['post_time'])\n",
    "        update(poster)\n",
    "    \n"
   ]
  },
  {
   "cell_type": "code",
   "execution_count": 28,
   "metadata": {},
   "outputs": [
    {
     "data": {
      "text/plain": [
       "[<matplotlib.lines.Line2D at 0x7fac4fe7c410>]"
      ]
     },
     "execution_count": 28,
     "metadata": {},
     "output_type": "execute_result"
    },
    {
     "data": {
      "image/png": "[encoded data removed]",
      "text/plain": [
       "<Figure size 432x288 with 1 Axes>"
      ]
     },
     "metadata": {
      "needs_background": "light"
     },
     "output_type": "display_data"
    }
   ],
   "source": [
    "plt.plot(t,Tall) #Stifler\n",
    "plt.plot(t,Sall) #Spreader\n",
    "plt.plot(t,Kall) #Knowledgable\n",
    "plt.plot(t,Iall) #Ignorant"
   ]
  },
  {
   "cell_type": "code",
   "execution_count": null,
   "metadata": {},
   "outputs": [],
   "source": []
  }
 ],
 "metadata": {
  "kernelspec": {
   "display_name": "Python 2",
   "language": "python",
   "name": "python2"
  },
  "language_info": {
   "codemirror_mode": {
    "name": "ipython",
    "version": 2
   },
   "file_extension": ".py",
   "mimetype": "text/x-python",
   "name": "python",
   "nbconvert_exporter": "python",
   "pygments_lexer": "ipython2",
   "version": "2.7.15"
  }
 },
 "nbformat": 4,
 "nbformat_minor": 2
}
